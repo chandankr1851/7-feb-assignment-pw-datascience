{
 "cells": [
  {
   "cell_type": "code",
   "execution_count": null,
   "id": "f8f7a381-cae9-4cba-a9a6-c5ea34c6ea01",
   "metadata": {},
   "outputs": [],
   "source": [
    "Q1. You are writing code for a company. The requirement of the company is that you create a python  function that will check whether the password entered by the user is correct or not. The function should  take the password as input and return the string “Valid Password” if the entered password follows the  below-given password guidelines else it should return “Invalid Password”. \n",
    "Note: 1. The Password should contain at least two uppercase letters and at least two lowercase letters. 2. The Password should contain at least a number and three special characters. \n",
    "3. The length of the password should be 10 characters long. \n"
   ]
  },
  {
   "cell_type": "code",
   "execution_count": 1,
   "id": "f88b481a-b654-47d4-9f57-4ecff292ffb9",
   "metadata": {},
   "outputs": [],
   "source": [
    "import re\n",
    "\n",
    "def check_password(password):\n",
    "    # Check length of password\n",
    "    if len(password) != 10:\n",
    "        return \"Invalid Password\"\n",
    "    \n",
    "    # Check number of uppercase and lowercase letters\n",
    "    num_upper = sum(1 for c in password if c.isupper())\n",
    "    num_lower = sum(1 for c in password if c.islower())\n",
    "    if num_upper < 2 or num_lower < 2:\n",
    "        return \"Invalid Password\"\n",
    "    \n",
    "    # Check for number and special characters\n",
    "    if not re.search(r'\\d', password) or not re.search(r'[!@#$%^&*()_+]', password):\n",
    "        return \"Invalid Password\"\n",
    "    \n",
    "    # Password is valid\n",
    "    return \"Valid Password\"\n"
   ]
  },
  {
   "cell_type": "code",
   "execution_count": 2,
   "id": "175365d3-c813-4e87-821d-dc97b4740467",
   "metadata": {},
   "outputs": [
    {
     "name": "stdout",
     "output_type": "stream",
     "text": [
      "Invalid Password\n",
      "Invalid Password\n"
     ]
    }
   ],
   "source": [
    "password = \"MyPassw0rd!\"\n",
    "result = check_password(password)\n",
    "print(result)  # Output: Valid Password\n",
    "\n",
    "password = \"mypassword1$\"\n",
    "result = check_password(password)\n",
    "print(result)  # Output: Invalid Password\n"
   ]
  },
  {
   "cell_type": "code",
   "execution_count": null,
   "id": "ea45a490-9bac-456f-a86a-c5b2c2bcbfe1",
   "metadata": {},
   "outputs": [],
   "source": [
    "Q2. Solve the below-given questions using at least one of the following:  \n",
    "1. Lambda functioJ \n",
    "2. Filter functioJ \n",
    "3. Zap functioJ \n",
    "4. List ComprehensioI \n"
   ]
  },
  {
   "cell_type": "code",
   "execution_count": null,
   "id": "25569b15-ad82-4146-aa3a-9b55ab1216a6",
   "metadata": {},
   "outputs": [],
   "source": [
    "I assume that you meant \"Lambda function,\" \"Filter function,\" and \"Map function\" instead of \"Zap function\" in your question. Here are some solutions using these functions:\n",
    "\n",
    "1.Using Lambda Function:\n",
    "a) Create a lambda function that takes two arguments and returns their product."
   ]
  },
  {
   "cell_type": "code",
   "execution_count": 5,
   "id": "d12b5936-4f84-46fb-ad62-b1d0023080d4",
   "metadata": {},
   "outputs": [],
   "source": [
    "prod = lambda x, y: x * y\n",
    "result = prod(5, 6) # Output: 30\n"
   ]
  },
  {
   "cell_type": "code",
   "execution_count": null,
   "id": "e637e13c-2413-4d1d-8b35-3ed77e042bd6",
   "metadata": {},
   "outputs": [],
   "source": [
    "b) Create a lambda function that takes a list of numbers as input and returns a new list containing only the even numbers."
   ]
  },
  {
   "cell_type": "code",
   "execution_count": 6,
   "id": "a7cad2a8-c5a9-4412-adbd-447349818a5b",
   "metadata": {},
   "outputs": [],
   "source": [
    "numbers = [1, 2, 3, 4, 5, 6, 7, 8, 9, 10]\n",
    "even_numbers = list(filter(lambda x: x % 2 == 0, numbers)) # Output: [2, 4, 6, 8, 10]\n"
   ]
  },
  {
   "cell_type": "code",
   "execution_count": null,
   "id": "30ed374f-b751-4fdc-8fd4-ad42f7202b1c",
   "metadata": {},
   "outputs": [],
   "source": [
    "2.Using Filter Function:\n",
    "a) Given a list of strings, filter out all the strings that contain the letter 'a'."
   ]
  },
  {
   "cell_type": "code",
   "execution_count": 7,
   "id": "88137ced-369c-4777-a47c-16a9b15ad35c",
   "metadata": {},
   "outputs": [],
   "source": [
    "strings = ['apple', 'banana', 'orange', 'grape', 'kiwi']\n",
    "filtered_strings = list(filter(lambda x: 'a' not in x, strings)) # Output: ['kiwi']\n"
   ]
  },
  {
   "cell_type": "code",
   "execution_count": null,
   "id": "71ec87a5-626f-4b68-8877-a4bc3789e72d",
   "metadata": {},
   "outputs": [],
   "source": [
    "b) Given a list of integers, filter out all the numbers that are divisible by 3."
   ]
  },
  {
   "cell_type": "code",
   "execution_count": 8,
   "id": "2612f83d-3eaf-4eb9-b469-adfe9ec6b543",
   "metadata": {},
   "outputs": [],
   "source": [
    "numbers = [1, 2, 3, 4, 5, 6, 7, 8, 9, 10]\n",
    "filtered_numbers = list(filter(lambda x: x % 3 != 0, numbers)) # Output: [1, 2, 4, 5, 7, 8, 10]\n"
   ]
  },
  {
   "cell_type": "code",
   "execution_count": null,
   "id": "ad512b23-c4ab-46d1-840a-58b7ba1ffbdb",
   "metadata": {},
   "outputs": [],
   "source": [
    "3.Using Map Function:\n",
    "    a) Given a list of numbers, create a new list containing the square of each number."
   ]
  },
  {
   "cell_type": "code",
   "execution_count": 9,
   "id": "09cc15b1-b563-49b7-a514-bd9ec00fd8dd",
   "metadata": {},
   "outputs": [],
   "source": [
    "numbers = [1, 2, 3, 4, 5]\n",
    "squares = list(map(lambda x: x**2, numbers)) # Output: [1, 4, 9, 16, 25]\n"
   ]
  },
  {
   "cell_type": "code",
   "execution_count": null,
   "id": "2e321e67-711e-4d1e-8137-afda0a832e9c",
   "metadata": {},
   "outputs": [],
   "source": [
    "b) Given a list of strings, create a new list containing the length of each string."
   ]
  },
  {
   "cell_type": "code",
   "execution_count": 11,
   "id": "b5ba23b3-7b0f-4434-ba0e-efc50c2ae3d6",
   "metadata": {},
   "outputs": [],
   "source": [
    "strings = ['apple', 'banana', 'orange', 'grape', 'kiwi']\n",
    "lengths = list(map(lambda x: len(x), strings)) # Output: [5, 6, 6, 5, 4]\n"
   ]
  },
  {
   "cell_type": "code",
   "execution_count": null,
   "id": "fa426d16-ba7a-4415-b097-86b4b5e1468f",
   "metadata": {},
   "outputs": [],
   "source": [
    "4.Using List Comprehension:\n",
    "a) Given a list of numbers, create a new list containing only the even numbers."
   ]
  },
  {
   "cell_type": "code",
   "execution_count": 12,
   "id": "ef8ef5ef-f017-493a-804a-66efb0a285c8",
   "metadata": {},
   "outputs": [],
   "source": [
    "numbers = [1, 2, 3, 4, 5, 6, 7, 8, 9, 10]\n",
    "even_numbers = [x for x in numbers if x % 2 == 0] # Output: [2, 4, 6, 8, 10]\n"
   ]
  },
  {
   "cell_type": "code",
   "execution_count": null,
   "id": "8c437eb3-3846-4ad9-9e22-cd5a44453970",
   "metadata": {},
   "outputs": [],
   "source": []
  }
 ],
 "metadata": {
  "kernelspec": {
   "display_name": "Python 3 (ipykernel)",
   "language": "python",
   "name": "python3"
  },
  "language_info": {
   "codemirror_mode": {
    "name": "ipython",
    "version": 3
   },
   "file_extension": ".py",
   "mimetype": "text/x-python",
   "name": "python",
   "nbconvert_exporter": "python",
   "pygments_lexer": "ipython3",
   "version": "3.10.8"
  }
 },
 "nbformat": 4,
 "nbformat_minor": 5
}
